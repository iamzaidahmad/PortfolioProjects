{
 "cells": [
  {
   "cell_type": "code",
   "execution_count": 1,
   "id": "79eba5ab",
   "metadata": {},
   "outputs": [],
   "source": [
    "# Project 1 - Quiz Game\n",
    "\n",
    "# Ask the user a total of 5 questions.\n",
    "# If they give the right answer, add one to their score.\n",
    "# At the end of the program, give them their final score and percentage.\n",
    "# For example: if they answered 3 questions correctly out of 5, there final\n",
    "# score would be 3 / 5 with 60% correct answers."
   ]
  },
  {
   "cell_type": "code",
   "execution_count": null,
   "id": "89f119a6",
   "metadata": {},
   "outputs": [],
   "source": [
    "# Skills used - loops, booleans, conditional statements, \n",
    "# logical and comparison operators, string formatting"
   ]
  },
  {
   "cell_type": "code",
   "execution_count": 2,
   "id": "c265efe2",
   "metadata": {},
   "outputs": [
    {
     "name": "stdout",
     "output_type": "stream",
     "text": [
      "Welcome to the Math Quiz!\n",
      "\n",
      "Here are the rules.\n",
      "1. You only get one chance to answer.\n",
      "2. Write your answers as integer values and not words.\n",
      "3.There is no negative marking.\n",
      "All the best! \n",
      "Shall we start the game? Y or N? Y\n",
      "What is the square of 8? 64\n",
      "Correct Answer. Here is your next question: \n",
      "What is the cube of 5? 25\n",
      "Incorrect Answer. Here is your next question: \n",
      "What is 6 times 11 equal to? 66\n",
      "Correct Answer. Here is your next question: \n",
      "What is 3 raised to the power 3 equal to? 81\n",
      "Correct Answer. Here is your next question: \n",
      "What is the first prime number? 2\n",
      "Correct Answer. Here is your next question: \n",
      "Your final score is 4 / 5\n",
      "You answered 80 % questions correctly.\n"
     ]
    }
   ],
   "source": [
    "# BLUEPRINT - Wrote a pseudo code first and then wrote the final code.\n",
    "\n",
    "#1 Print a welcome message!\n",
    "print('Welcome to the Math Quiz!')\n",
    "print('\\nHere are the rules.\\n1. You only get one chance to answer.\\n2. Write your answers as integer values and not words.\\n3.There is no negative marking.\\nAll the best! ')\n",
    "game_on = True\n",
    "\n",
    "start = False\n",
    "while start not in ('Y','N'):\n",
    "    start = input('Shall we start the game? Y or N? ')\n",
    "    if start not in ('Y','N'):\n",
    "        print('Wrong Choice! Please choose from Y or N: ')\n",
    "if start != 'Y':\n",
    "    game_on = False\n",
    "else:\n",
    "    game_on = True\n",
    "\n",
    "while game_on:\n",
    "    #2 Start Asking Questions\n",
    "    counter = 0\n",
    "    \n",
    "    answer = int(input('What is the square of 8? '))\n",
    "    if answer == 64:\n",
    "        print('Correct Answer. Here is your next question: ')\n",
    "        counter += 1\n",
    "    else:\n",
    "        print('Incorrect Answer. Here is your next question: ')\n",
    "        \n",
    "    answer = int(input('What is the cube of 5? '))\n",
    "    if answer == 125:\n",
    "        print('Correct Answer. Here is your next question: ')\n",
    "        counter += 1\n",
    "    else:\n",
    "        print('Incorrect Answer. Here is your next question: ')\n",
    "        \n",
    "    answer = int(input('What is 6 times 11 equal to? '))\n",
    "    if answer == 66:\n",
    "        print('Correct Answer. Here is your next question: ')\n",
    "        counter += 1\n",
    "    else:\n",
    "        print('Incorrect Answer. Here is your next question: ')\n",
    "        \n",
    "    answer = int(input('What is 3 raised to the power 3 equal to? '))\n",
    "    if answer == 81:\n",
    "        print('Correct Answer. Here is your next question: ')\n",
    "        counter += 1\n",
    "    else:\n",
    "        print('Incorrect Answer. Here is your next question: ')\n",
    "        \n",
    "    answer = int(input('What is the first prime number? '))\n",
    "    if answer == 2:\n",
    "        print('Correct Answer. Here is your next question: ')\n",
    "        counter += 1\n",
    "    else:\n",
    "        print('Incorrect Answer. Here is your next question: ')\n",
    "    break\n",
    "\n",
    "#3 Print the final score and their percentage.\n",
    "final_score = counter\n",
    "percent = int((final_score / 5)*100)\n",
    "print(f'Your final score is {final_score} / 5')\n",
    "print(f'You answered {percent} % questions correctly.')"
   ]
  },
  {
   "cell_type": "code",
   "execution_count": null,
   "id": "20258a2c",
   "metadata": {},
   "outputs": [],
   "source": []
  }
 ],
 "metadata": {
  "kernelspec": {
   "display_name": "Python 3 (ipykernel)",
   "language": "python",
   "name": "python3"
  },
  "language_info": {
   "codemirror_mode": {
    "name": "ipython",
    "version": 3
   },
   "file_extension": ".py",
   "mimetype": "text/x-python",
   "name": "python",
   "nbconvert_exporter": "python",
   "pygments_lexer": "ipython3",
   "version": "3.9.7"
  }
 },
 "nbformat": 4,
 "nbformat_minor": 5
}
