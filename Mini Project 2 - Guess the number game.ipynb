{
 "cells": [
  {
   "cell_type": "code",
   "execution_count": 4,
   "id": "42d7957d",
   "metadata": {},
   "outputs": [],
   "source": [
    "# PROJECT 2 - Guess the number game\n",
    "\n",
    "# Game Blueprint\n",
    "# Let the user decide the range they want to guess the number in.\n",
    "# Generate a random number in that range.\n",
    "# Ask the user to guess the number.\n",
    "# Let the user know if their guess wos higher or lower than the number.\n",
    "# Repeat the process until user guesses the number correctly.\n",
    "# Print the number of guesses the user took to get to the number."
   ]
  },
  {
   "cell_type": "code",
   "execution_count": 5,
   "id": "65e5b914",
   "metadata": {},
   "outputs": [],
   "source": [
    "# Concepts Used - random library, loops, casting data types, string formatting,\n",
    "# logical opertors, comparison operators, conditional statements, booleans."
   ]
  },
  {
   "cell_type": "code",
   "execution_count": 7,
   "id": "0a0c8ec2",
   "metadata": {},
   "outputs": [
    {
     "name": "stdout",
     "output_type": "stream",
     "text": [
      "Welcome to the number guessing game.\n",
      "Choose a positive integer as an upper limit for the game:  100\n",
      "Guess the number between 1 and 100: 55\n",
      "Go Lower\n",
      "Guess the number between 1 and 100: 34\n",
      "Go Lower\n",
      "Guess the number between 1 and 100: 15\n",
      "Go Higher\n",
      "Guess the number between 1 and 100: 26\n",
      "Go Higher\n",
      "Guess the number between 1 and 100: 30\n",
      "Go Lower\n",
      "Guess the number between 1 and 100: 28\n",
      "That is correct! You took 6 chances to guess the number.\n"
     ]
    }
   ],
   "source": [
    "# 1) Print the Welcome message!\n",
    "import random\n",
    "print('Welcome to the number guessing game.')\n",
    "\n",
    "# 2) Ask the user to choose the upper limit for the range.\n",
    "while True:\n",
    "    upper_limit = input('Choose a positive integer as an upper limit for the game:  ')\n",
    "    if int(upper_limit.isdigit()) == False or int(upper_limit) < 0:\n",
    "        print('Sorry! That is not a correct choice.')\n",
    "    else:\n",
    "         break \n",
    "            \n",
    "#3) Generate a random number in that range.           \n",
    "random_num = random.randint(0,int(upper_limit))\n",
    "\n",
    "# 4) Let the user know if their guess was greater or lower and keep repeating\n",
    "# the process.\n",
    "counter = 0\n",
    "guess = False\n",
    "while guess != random_num:\n",
    "    counter += 1\n",
    "    guess = int(input(f'Guess the number between 1 and {upper_limit}: '))\n",
    "    if guess < random_num:\n",
    "        print('Go Higher')\n",
    "    elif guess > random_num:\n",
    "        print('Go Lower')\n",
    "    else:\n",
    "        break\n",
    "\n",
    "# 5) Print the number of guesses.\n",
    "print (f'That is correct! You took {counter} chances to guess the number.')      "
   ]
  },
  {
   "cell_type": "code",
   "execution_count": null,
   "id": "615d8022",
   "metadata": {},
   "outputs": [],
   "source": []
  }
 ],
 "metadata": {
  "kernelspec": {
   "display_name": "Python 3 (ipykernel)",
   "language": "python",
   "name": "python3"
  },
  "language_info": {
   "codemirror_mode": {
    "name": "ipython",
    "version": 3
   },
   "file_extension": ".py",
   "mimetype": "text/x-python",
   "name": "python",
   "nbconvert_exporter": "python",
   "pygments_lexer": "ipython3",
   "version": "3.9.7"
  }
 },
 "nbformat": 4,
 "nbformat_minor": 5
}
